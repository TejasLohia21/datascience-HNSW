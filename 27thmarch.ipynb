{
 "cells": [
  {
   "cell_type": "code",
   "execution_count": 5,
   "metadata": {},
   "outputs": [],
   "source": [
    "import json\n",
    "import numpy as np\n",
    "import pandas as pd\n",
    "import matplotlib.pyplot as plt\n",
    "import hnswlib\n",
    "from sklearn.neighbors import NearestNeighbors\n",
    "from heapq import heappush, heappop"
   ]
  },
  {
   "cell_type": "code",
   "execution_count": 6,
   "metadata": {},
   "outputs": [
    {
     "name": "stdout",
     "output_type": "stream",
     "text": [
      "Loaded 400000 word vectors of dimension 100\n"
     ]
    }
   ],
   "source": [
    "\n",
    "# Path to your GloVe file (update this based on your downloaded version)\n",
    "glove_path = \"/Users/tejasmacipad/Desktop/Projects/DataScience/datascience-HNSW/glove/glove.6B.100d.txt\"\n",
    "\n",
    "# Load GloVe vectors\n",
    "word_to_vec = {}\n",
    "words = []\n",
    "vectors = []\n",
    "\n",
    "with open(glove_path, \"r\", encoding=\"utf-8\") as f:\n",
    "    for line in f:\n",
    "        values = line.split()\n",
    "        word = values[0]  # First token is the word\n",
    "        vector = np.array(values[1:], dtype=np.float32)  # Rest are vector values\n",
    "        word_to_vec[word] = vector\n",
    "        words.append(word)\n",
    "        vectors.append(vector)\n",
    "\n",
    "# Convert to numpy array\n",
    "vectors = np.array(vectors, dtype=np.float32)\n",
    "print(f\"Loaded {len(words)} word vectors of dimension {vectors.shape[1]}\")"
   ]
  },
  {
   "cell_type": "markdown",
   "metadata": {},
   "source": [
    "# Query and output generation"
   ]
  },
  {
   "cell_type": "markdown",
   "metadata": {},
   "source": [
    "#### Model with l2"
   ]
  },
  {
   "cell_type": "code",
   "execution_count": 7,
   "metadata": {},
   "outputs": [
    {
     "name": "stdout",
     "output_type": "stream",
     "text": [
      "HNSW index built successfully!\n"
     ]
    }
   ],
   "source": [
    "dim = vectors.shape[1]  # Embedding dimension\n",
    "num_elements = len(words)  # Number of words\n",
    "\n",
    "# Initialize HNSW index\n",
    "hnsw_index = hnswlib.Index(space=\"l2\", dim=dim)  # \"l2\" is Euclidean distance\n",
    "\n",
    "# Set up the index\n",
    "hnsw_index.init_index(max_elements=num_elements, ef_construction=200, M=16)\n",
    "\n",
    "# Add word vectors to the index\n",
    "hnsw_index.add_items(vectors)\n",
    "\n",
    "print(\"HNSW index built successfully!\")"
   ]
  },
  {
   "cell_type": "code",
   "execution_count": 8,
   "metadata": {},
   "outputs": [],
   "source": [
    "def find_similar_words(query_word, k=6):\n",
    "    if query_word not in word_to_vec:\n",
    "        return f\"'{query_word}' not found in vocabulary!\"\n",
    "\n",
    "    query_vector = word_to_vec[query_word].reshape(1, -1)\n",
    "    labels, distances = hnsw_index.knn_query(query_vector, k=k)\n",
    "\n",
    "    print(f\"\\nTop {k} words similar to '{query_word}':\")\n",
    "    for i, index in enumerate(labels[0]):\n",
    "        print(f\"{i+1}. {words[index]} (Distance: {distances[0][i]:.4f})\")\n"
   ]
  },
  {
   "cell_type": "code",
   "execution_count": 9,
   "metadata": {},
   "outputs": [
    {
     "name": "stdout",
     "output_type": "stream",
     "text": [
      "\n",
      "Top 5 words similar to 'king':\n",
      "1. king (Distance: 0.0000)\n",
      "2. prince (Distance: 16.7458)\n",
      "3. queen (Distance: 18.3291)\n",
      "4. monarch (Distance: 20.0182)\n",
      "5. brother (Distance: 20.5814)\n"
     ]
    }
   ],
   "source": [
    "# Example Query\n",
    "find_similar_words(\"king\", k=5)"
   ]
  },
  {
   "cell_type": "markdown",
   "metadata": {},
   "source": [
    "#### Model with cosine"
   ]
  },
  {
   "cell_type": "code",
   "execution_count": 10,
   "metadata": {},
   "outputs": [
    {
     "name": "stdout",
     "output_type": "stream",
     "text": [
      "HNSW index built successfully!\n"
     ]
    }
   ],
   "source": [
    "dim = vectors.shape[1]  # Embedding dimension\n",
    "num_elements = len(words)  # Number of words\n",
    "\n",
    "# Initialize HNSW index\n",
    "hnsw_index_cosine = hnswlib.Index(space=\"cosine\", dim=dim)  # \"l2\" is Euclidean distance\n",
    "\n",
    "# Set up the index\n",
    "hnsw_index_cosine.init_index(max_elements=num_elements, ef_construction=200, M=16)\n",
    "\n",
    "# Add word vectors to the index\n",
    "hnsw_index_cosine.add_items(vectors)\n",
    "\n",
    "print(\"HNSW index built successfully!\")"
   ]
  },
  {
   "cell_type": "code",
   "execution_count": 11,
   "metadata": {},
   "outputs": [],
   "source": [
    "def find_similar_words_cosine(query_word, k=6):\n",
    "    if query_word not in word_to_vec:\n",
    "        return f\"'{query_word}' not found in vocabulary!\"\n",
    "\n",
    "    query_vector = word_to_vec[query_word].reshape(1, -1)\n",
    "    labels, distances = hnsw_index_cosine.knn_query(query_vector, k=k)\n",
    "\n",
    "    print(f\"\\nTop {k} words similar to '{query_word}':\")\n",
    "    for i, index in enumerate(labels[0]):\n",
    "        print(f\"{i+1}. {words[index]} (Distance: {distances[0][i]:.4f})\")"
   ]
  },
  {
   "cell_type": "code",
   "execution_count": 12,
   "metadata": {},
   "outputs": [
    {
     "name": "stdout",
     "output_type": "stream",
     "text": [
      "\n",
      "Top 10 words similar to 'king':\n",
      "1. king (Distance: -0.0000)\n",
      "2. prince (Distance: 0.2318)\n",
      "3. queen (Distance: 0.2492)\n",
      "4. son (Distance: 0.2979)\n",
      "5. brother (Distance: 0.3014)\n",
      "6. monarch (Distance: 0.3022)\n",
      "7. throne (Distance: 0.3080)\n",
      "8. kingdom (Distance: 0.3189)\n",
      "9. father (Distance: 0.3198)\n",
      "10. emperor (Distance: 0.3287)\n"
     ]
    }
   ],
   "source": [
    "for a in range(1):\n",
    "    find_similar_words_cosine(\"king\", k=10)"
   ]
  },
  {
   "cell_type": "markdown",
   "metadata": {},
   "source": [
    "Using k means to get query and correponding output"
   ]
  },
  {
   "cell_type": "code",
   "execution_count": 13,
   "metadata": {},
   "outputs": [
    {
     "name": "stderr",
     "output_type": "stream",
     "text": [
      "Finding nearest neighbors: 100%|██████████| 100000/100000 [00:02<00:00, 48642.53it/s]"
     ]
    },
    {
     "name": "stdout",
     "output_type": "stream",
     "text": [
      "Stored nearest neighbors for 88440 queries.\n"
     ]
    },
    {
     "name": "stderr",
     "output_type": "stream",
     "text": [
      "\n"
     ]
    }
   ],
   "source": [
    "# Step 1: Generate 10^5 random query indices\n",
    "num_queries = 10**5\n",
    "query_indices = np.random.randint(0, len(words), size=num_queries)\n",
    "\n",
    "# Step 2: Get the corresponding query vectors\n",
    "query_vectors = vectors[query_indices]\n",
    "\n",
    "# Step 3: Use NearestNeighbors to find 100 nearest neighbors\n",
    "k = 100\n",
    "nn = NearestNeighbors(n_neighbors=k, algorithm='auto', metric='l2')\n",
    "nn.fit(vectors)\n",
    "\n",
    "# Step 4: For each query, get the indices of the 100 nearest neighbors\n",
    "distances, neighbor_indices = nn.kneighbors(query_vectors)\n",
    "\n",
    "# Step 5: Store results in a dictionary {query_word: [neighbor_words]}\n",
    "query_to_neighbors = {}\n",
    "\n",
    "from tqdm import tqdm\n",
    "\n",
    "# Step 5: Store results in a dictionary {query_word: [neighbor_words]}\n",
    "query_to_neighbors = {}\n",
    "for i in tqdm(range(len(query_indices)), desc=\"Finding nearest neighbors\"):\n",
    "    query_idx = query_indices[i]\n",
    "    query_word = words[query_idx]\n",
    "    neighbor_words = [words[idx] for idx in neighbor_indices[i]]\n",
    "    query_to_neighbors[query_word] = neighbor_words\n",
    "\n",
    "print(f\"Stored nearest neighbors for {len(query_to_neighbors)} queries.\")\n"
   ]
  },
  {
   "cell_type": "code",
   "execution_count": null,
   "metadata": {},
   "outputs": [],
   "source": [
    "import json\n",
    "\n",
    "with open(\"query_neighbors.json\", \"w\") as f:\n",
    "    json.dump(query_to_neighbors, f)\n",
    "\n"
   ]
  },
  {
   "cell_type": "markdown",
   "metadata": {},
   "source": [
    "There are less number of queries stored in dictionary because some of them we repeated, because of which dictionary removed the repititions;"
   ]
  },
  {
   "cell_type": "markdown",
   "metadata": {},
   "source": [
    "Based on this we can map the frequency of the outputs obtained from these queries"
   ]
  },
  {
   "cell_type": "code",
   "execution_count": 15,
   "metadata": {},
   "outputs": [
    {
     "name": "stdout",
     "output_type": "stream",
     "text": [
      "Loaded 88299 queries from file.\n",
      "Stored vectors for 88299 unique query words.\n"
     ]
    }
   ],
   "source": [
    "import json\n",
    "\n",
    "# Load the saved query-to-neighbors mapping\n",
    "with open(\"query_neighbors.json\", \"r\") as f:\n",
    "    query_to_neighbors = json.load(f)\n",
    "\n",
    "print(f\"Loaded {len(query_to_neighbors)} queries from file.\")\n",
    "\n",
    "# Step 6: Create a dictionary mapping each unique query_word to its vector\n",
    "query_word_vectors = {word: word_to_vec[word] for word in query_to_neighbors}\n",
    "\n",
    "print(f\"Stored vectors for {len(query_word_vectors)} unique query words.\")\n",
    "\n"
   ]
  },
  {
   "cell_type": "markdown",
   "metadata": {},
   "source": [
    "Frequency count"
   ]
  },
  {
   "cell_type": "code",
   "execution_count": 16,
   "metadata": {},
   "outputs": [
    {
     "name": "stderr",
     "output_type": "stream",
     "text": [
      "Finding nearest neighbors: 100%|██████████| 100000/100000 [00:00<00:00, 747039.22it/s]\n"
     ]
    }
   ],
   "source": [
    "query_to_neighbors_vectors = {}\n",
    "\n",
    "for i in tqdm(range(len(query_indices)), desc=\"Finding nearest neighbors\"):\n",
    "    query_idx = query_indices[i]\n",
    "    neighbor_indices_list = neighbor_indices[i]\n",
    "    query_to_neighbors_vectors[query_idx] = neighbor_indices_list  # All indices, not vectors\n"
   ]
  },
  {
   "cell_type": "code",
   "execution_count": 17,
   "metadata": {},
   "outputs": [],
   "source": [
    "from collections import Counter\n",
    "import pandas as pd\n",
    "\n",
    "# Flatten all neighbor indices into a single list\n",
    "all_neighbors = [idx for neighbors in query_to_neighbors_vectors.values() for idx in neighbors]\n",
    "\n",
    "# Count frequency of each neighbor index\n",
    "freq_counter = Counter(all_neighbors)\n",
    "\n",
    "# Create DataFrame and sort\n",
    "freq_df = pd.DataFrame(freq_counter.items(), columns=[\"Index\", \"Frequency\"]).sort_values(\"Frequency\", ascending=False)\n",
    "\n"
   ]
  },
  {
   "cell_type": "code",
   "execution_count": 18,
   "metadata": {},
   "outputs": [
    {
     "name": "stdout",
     "output_type": "stream",
     "text": [
      "8844000\n"
     ]
    }
   ],
   "source": [
    "print(len(all_neighbors))"
   ]
  },
  {
   "cell_type": "markdown",
   "metadata": {},
   "source": [
    "As we have unique 88508 and each one of them has 100 outputs, we can use the frequency count."
   ]
  },
  {
   "cell_type": "code",
   "execution_count": 19,
   "metadata": {},
   "outputs": [
    {
     "name": "stdout",
     "output_type": "stream",
     "text": [
      "       Index  Frequency\n",
      "1309  154957       9986\n",
      "2365  289249       9833\n",
      "1332  364978       9056\n",
      "2366  224673       8715\n",
      "2400  262208       7330\n",
      "         Index  Frequency\n",
      "312838  180067          1\n",
      "312841   92329          1\n",
      "312842  243938          1\n",
      "312848   44215          1\n",
      "362029   31899          1\n"
     ]
    }
   ],
   "source": [
    "print(freq_df.head())  # Preview\n",
    "print(freq_df.tail())  # Preview"
   ]
  },
  {
   "cell_type": "markdown",
   "metadata": {},
   "source": [
    "### Frequency count of the outputs obtained from the queries"
   ]
  },
  {
   "cell_type": "code",
   "execution_count": 20,
   "metadata": {},
   "outputs": [
    {
     "name": "stdout",
     "output_type": "stream",
     "text": [
      "Average frequency of neighbors: 24.42891473082341\n"
     ]
    }
   ],
   "source": [
    "#printing the average\n",
    "average = freq_df[\"Frequency\"].mean()\n",
    "print(f\"Average frequency of neighbors: {average}\")"
   ]
  },
  {
   "cell_type": "code",
   "execution_count": 21,
   "metadata": {},
   "outputs": [
    {
     "name": "stdout",
     "output_type": "stream",
     "text": [
      "362030\n"
     ]
    }
   ],
   "source": [
    "print(len(freq_df))  # Total unique neighbors"
   ]
  },
  {
   "cell_type": "code",
   "execution_count": 22,
   "metadata": {},
   "outputs": [
    {
     "data": {
      "image/png": "[encoded data removed]",
      "text/plain": [
       "<Figure size 1000x600 with 1 Axes>"
      ]
     },
     "metadata": {},
     "output_type": "display_data"
    },
    {
     "data": {
      "image/png": "[encoded data removed]",
      "text/plain": [
       "<Figure size 1000x400 with 1 Axes>"
      ]
     },
     "metadata": {},
     "output_type": "display_data"
    }
   ],
   "source": [
    "import matplotlib.pyplot as plt\n",
    "import squarify  # pip install squarify if not already installed\n",
    "import numpy as np\n",
    "\n",
    "# Select top N most frequent indices\n",
    "top_n = 30\n",
    "freq_top = freq_df.head(top_n)\n",
    "\n",
    "# 1. Horizontal Bar Chart\n",
    "plt.figure(figsize=(10, 6))\n",
    "plt.barh(freq_top[\"Index\"].astype(str), freq_top[\"Frequency\"], color='skyblue')\n",
    "plt.xlabel(\"Frequency\")\n",
    "plt.ylabel(\"Index\")\n",
    "plt.title(f\"Top {top_n} Most Frequent Neighbor Indices\")\n",
    "plt.gca().invert_yaxis()  # Highest freq on top\n",
    "plt.tight_layout()\n",
    "plt.show()\n",
    "\n",
    "# 3. Cumulative Frequency Line Plot\n",
    "freq_df_sorted = freq_df.sort_values(\"Frequency\", ascending=False)\n",
    "cum_freq = np.cumsum(freq_df_sorted[\"Frequency\"])\n",
    "cum_freq = cum_freq / cum_freq.max()  # Normalize to 0–1\n",
    "\n",
    "plt.figure(figsize=(10, 4))\n",
    "plt.plot(range(len(cum_freq)), cum_freq, marker='o', linestyle='-', color='green')\n",
    "plt.title(\"Cumulative Frequency of Neighbor Indices\")\n",
    "plt.xlabel(\"Index Rank\")\n",
    "plt.ylabel(\"Cumulative Frequency (Normalized)\")\n",
    "plt.grid(True)\n",
    "plt.tight_layout()\n",
    "plt.show()\n"
   ]
  },
  {
   "cell_type": "markdown",
   "metadata": {},
   "source": [
    "# Base Code"
   ]
  },
  {
   "cell_type": "code",
   "execution_count": 23,
   "metadata": {},
   "outputs": [],
   "source": [
    "class HNSW:\n",
    "    def __init__(self, dim, max_elements, M=16, ef_construction=200):\n",
    "        self.dim = dim\n",
    "        self.max_elements = max_elements\n",
    "        self.M = M  # Maximum number of connections per layer\n",
    "        self.ef_construction = ef_construction  # Candidate list size during construction\n",
    "        self.layers = []  # Multi-layer graph\n",
    "\n",
    "    def _get_layer(self):\n",
    "        \"\"\"Determine the layer for a new node based on exponential decay.\"\"\"\n",
    "        return int(-np.log(np.random.random()) * self.M)\n",
    "\n",
    "    def _distance(self, vec1, vec2):\n",
    "        \"\"\"Compute Euclidean distance between two vectors.\"\"\"\n",
    "        return np.linalg.norm(vec1 - vec2)\n",
    "\n",
    "    def _search_layer(self, graph, query, ef):\n",
    "        \"\"\"Search for nearest neighbors in a specific layer.\"\"\"\n",
    "        visited = set()\n",
    "        candidates = []\n",
    "        heappush(candidates, (0, query))  # Start with the query itself\n",
    "        neighbors = []\n",
    "\n",
    "        while candidates:\n",
    "            dist, current = heappop(candidates)\n",
    "            if current in visited:\n",
    "                continue\n",
    "            visited.add(current)\n",
    "            neighbors.append((dist, current))\n",
    "            if len(neighbors) > ef:\n",
    "                neighbors.pop()\n",
    "            for neighbor in graph[current]:\n",
    "                if neighbor not in visited:\n",
    "                    heappush(candidates, (self._distance(query, neighbor), neighbor))\n",
    "\n",
    "        return neighbors\n",
    "\n",
    "    # def insert(self, vector):\n",
    "    #     \"\"\"Insert a vector into the HNSW index.\"\"\"\n",
    "    #     layer = self._get_layer()\n",
    "    #     while len(self.layers) <= layer:\n",
    "    #         self.layers.append([])\n",
    "\n",
    "    #     for l in range(layer + 1):\n",
    "    #         graph = self.layers[l]\n",
    "    #         if not graph:  # First vector in this layer\n",
    "    #             graph.append([vector])\n",
    "    #             continue\n",
    "\n",
    "    #         neighbors = self._search_layer(graph, vector, self.ef_construction)\n",
    "    #         connections = [n[1] for n in neighbors[:self.M]]\n",
    "    #         graph.append([vector] + connections)\n",
    "\n",
    "    def insert(self, vector):\n",
    "        \"\"\"Insert a vector into the HNSW index with bidirectional edges.\"\"\"\n",
    "        layer = self._get_layer()\n",
    "        while len(self.layers) <= layer:\n",
    "            self.layers.append([])\n",
    "\n",
    "        for l in range(layer + 1):\n",
    "            graph = self.layers[l]\n",
    "\n",
    "            # Map each node to its list of connections for easier back-links\n",
    "            if not graph:\n",
    "                graph.append([vector])  # First node, no neighbors\n",
    "                continue\n",
    "\n",
    "            neighbors = self._search_layer(graph, vector, self.ef_construction)\n",
    "            connections = [n[1] for n in neighbors[:self.M]]\n",
    "\n",
    "            # Add the new node and its connections\n",
    "            graph.append([vector] + connections)\n",
    "\n",
    "            # Add back-links to connected nodes (bidirectional edges)\n",
    "            for idx, node in enumerate(graph):\n",
    "                if node[0] in connections:\n",
    "                    if vector not in node[1:]:\n",
    "                        graph[idx].append(vector)\n",
    "\n",
    "\n",
    "    def search(self, query, k=10):\n",
    "        \"\"\"Search for the top-k nearest neighbors.\"\"\"\n",
    "        best_neighbors = []\n",
    "        for layer in reversed(range(len(self.layers))):  # Start from top layer\n",
    "            graph = self.layers[layer]\n",
    "            neighbors = self._search_layer(graph, query, k)\n",
    "            best_neighbors.extend(neighbors)\n",
    "\n",
    "        best_neighbors.sort(key=lambda x: x[0])  # Sort by distance\n",
    "        return [n[1] for n in best_neighbors[:k]]\n",
    "\n"
   ]
  },
  {
   "cell_type": "markdown",
   "metadata": {},
   "source": [
    "The constructor initializes the HNSW object with the following parameters:\n",
    "\n",
    "**dim:** The dimensionality of the vectors being indexed.\n",
    "\n",
    "**max_elements:** The maximum number of elements that can be stored in the index.\n",
    "\n",
    "**M:** The maximum number of connections (edges) a node can have in each layer. This parameter controls the graph's connectivity.\n",
    "\n",
    "**ef_construction:** The size of the candidate list during graph construction. Larger values improve accuracy but increase computational cost.\n",
    "\n",
    "**layers:** A list that stores multiple layers of graphs. Each layer is a graph represented as an adjacency list."
   ]
  },
  {
   "cell_type": "markdown",
   "metadata": {},
   "source": []
  }
 ],
 "metadata": {
  "kernelspec": {
   "display_name": "datascience",
   "language": "python",
   "name": "python3"
  },
  "language_info": {
   "codemirror_mode": {
    "name": "ipython",
    "version": 3
   },
   "file_extension": ".py",
   "mimetype": "text/x-python",
   "name": "python",
   "nbconvert_exporter": "python",
   "pygments_lexer": "ipython3",
   "version": "3.12.9"
  }
 },
 "nbformat": 4,
 "nbformat_minor": 2
}
