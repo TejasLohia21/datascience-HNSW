{
 "cells": [
  {
   "cell_type": "markdown",
   "metadata": {},
   "source": [
    "# Query-Aware HNSW Optimization Approach\n",
    "\n",
    "## 🎯 Problem Statement\n",
    "**Given:**  \n",
    "- 1M base dataset vectors with embeddings  \n",
    "- 10K query vectors + their 100 nearest neighbors (1M total neighbor entries)  \n",
    "**Goal:** Improve HNSW performance (faster queries + better recall) using query patterns  \n",
    "\n",
    "## 🔍 Key Insight\n",
    "Vectors frequently appearing in query results or having small query distances are critical \"hubs\". Prioritize them in HNSW's upper layers for faster access.\n",
    "\n",
    "## 🛠 Implementation Steps\n",
    "\n",
    "### 1️⃣ Frequency & Distance Calculation\n",
    "- **Frequency (freq):** Count how often each base vector appears in 1M neighbor entries  \n",
    "- **Distance:** For each vector, compute average/min distance to queries where it was a neighbor  \n",
    "\n",
    "### 2️⃣ Normalization\n",
    "| Metric          | Formula                          | Purpose                          |\n",
    "|-----------------|----------------------------------|----------------------------------|\n",
    "| **Frequency**   | `norm_freq = log(1+freq)/log(1+max_freq)` | Compress skewed frequency distribution |\n",
    "| **Distance**    | `norm_dist = 1 - (dist-min_dist)/(max_dist-min_dist)` | Invert & scale distances to [0,1] |\n",
    "\n",
    "**Combined Score:**  \n",
    "`f = 0.5*norm_freq + 0.5*norm_dist`  \n",
    "*(Adjust 0.5 weights via validation)*\n",
    "\n",
    "### 3️⃣ Threshold Selection\n",
    "**Recommended Methods:**  \n",
    "- **Percentile:** `t = 90th percentile of f` (boost top 10% vectors)  \n",
    "- **Statistical:** `t = μ + 1.5σ` (capture outliers)  \n",
    "- **Validation:** Test thresholds on holdout queries  \n",
    "\n",
    "### 4️⃣ HNSW Layer Assignment\n",
    "Modify layer probability for vectors with `f > t`:  \n"
   ]
  },
  {
   "cell_type": "markdown",
   "metadata": {},
   "source": []
  },
  {
   "cell_type": "markdown",
   "metadata": {},
   "source": [
    "This increases their chance to appear in higher layers.\n",
    "\n",
    "## 🚀 Expected Benefits\n",
    "| Aspect       | Improvement Mechanism                  |\n",
    "|--------------|----------------------------------------|\n",
    "| **Speed**    | Critical vectors found earlier in search |\n",
    "| **Recall**   | Reduces missed connections between hubs |\n",
    "| **Adaptivity**| Index evolves with query patterns      |\n",
    "\n",
    "## 📊 Visualization\n"
   ]
  }
 ],
 "metadata": {
  "language_info": {
   "name": "python"
  }
 },
 "nbformat": 4,
 "nbformat_minor": 2
}
