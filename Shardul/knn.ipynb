{
 "cells": [
  {
   "cell_type": "code",
   "execution_count": 1,
   "id": "45b9c0fe",
   "metadata": {},
   "outputs": [],
   "source": [
    "import numpy as np\n",
    "from tqdm import tqdm\n",
    "from sklearn.neighbors import NearestNeighbors\n",
    "import os\n",
    "import time\n",
    "\n",
    "def set_seed(seed):\n",
    "    np.random.seed(seed)\n",
    "\n",
    "set_seed(42)"
   ]
  },
  {
   "cell_type": "code",
   "execution_count": null,
   "id": "b1885b92",
   "metadata": {},
   "outputs": [],
   "source": [
    "MAIN_DIR = \"../data/glove_6b_50d_split/\"\n",
    "DATA_PATH = MAIN_DIR + \"X_data.txt\"\n",
    "QUERY_PATH = MAIN_DIR + \"X_query.txt\"\n",
    "K = 10\n",
    "OUTPUT_DIR = MAIN_DIR + f\"knn_k{K}/\"\n",
    "os.makedirs(OUTPUT_DIR, exist_ok=True)"
   ]
  },
  {
   "cell_type": "code",
   "execution_count": null,
   "id": "875b9f0c",
   "metadata": {},
   "outputs": [],
   "source": [
    "def load_vectors_only(path):\n",
    "    vectors = []\n",
    "    with open(path, 'r', encoding='utf-8') as f:\n",
    "        for line in f:\n",
    "            vec = np.array(line.strip().split()[1:], dtype=np.float32)  # skip the word\n",
    "            vectors.append(vec)\n",
    "    return np.vstack(vectors)\n",
    "\n",
    "def save_knn_results(prefix, indices, distances):\n",
    "    np.savetxt(f\"{prefix}_indices.txt\", indices, fmt=\"%d\")\n",
    "    np.savetxt(f\"{prefix}_distances.txt\", distances, fmt=\"%.6f\")\n",
    "    print(f\"Saved: {prefix}_indices.txt and {prefix}_distances.txt\")"
   ]
  },
  {
   "cell_type": "code",
   "execution_count": 5,
   "id": "eb1cb222",
   "metadata": {},
   "outputs": [
    {
     "name": "stdout",
     "output_type": "stream",
     "text": [
      "Loading vectors...\n",
      "X_data shape: (320000, 50)\n",
      "X_query shape: (80000, 50)\n"
     ]
    }
   ],
   "source": [
    "print(\"Loading vectors...\")\n",
    "X_data = load_vectors_only(DATA_PATH)\n",
    "X_query = load_vectors_only(QUERY_PATH)\n",
    "\n",
    "print(f\"X_data shape: {X_data.shape}\")\n",
    "print(f\"X_query shape: {X_query.shape}\")"
   ]
  },
  {
   "cell_type": "code",
   "execution_count": null,
   "id": "c8df772a",
   "metadata": {},
   "outputs": [
    {
     "name": "stdout",
     "output_type": "stream",
     "text": [
      "Fitting Nearest Neighbors...\n",
      "Time taken: 0.020998 seconds\n"
     ]
    }
   ],
   "source": [
    "print(\"Fitting Nearest Neighbors using k-NN (brute)...\")\n",
    "start_time = time.time()\n",
    "\n",
    "nbrs = NearestNeighbors(n_neighbors=K, algorithm='brute', metric='cosine')\n",
    "nbrs.fit(X_data)\n",
    "\n",
    "end_time = time.time()\n",
    "print(f\"Time taken: {end_time - start_time:.6f} seconds\")"
   ]
  },
  {
   "cell_type": "code",
   "execution_count": null,
   "id": "76ea538e",
   "metadata": {},
   "outputs": [
    {
     "name": "stdout",
     "output_type": "stream",
     "text": [
      "Finding neighbors for query set...\n",
      "Time taken: 507.087246 seconds\n",
      "      \n",
      "knn_distances shape: (80000, 10)\n",
      "knn_indices shape: (80000, 10)\n"
     ]
    }
   ],
   "source": [
    "print(\"Finding neighbors for query set...\")\n",
    "start_time = time.time()\n",
    "\n",
    "knn_distances, knn_indices = nbrs.kneighbors(X_query)\n",
    "\n",
    "end_time = time.time()\n",
    "print(f\"Time taken: {end_time - start_time:.6f} seconds\\n\")\n",
    "\n",
    "print(\"knn_distances shape:\", knn_distances.shape)\n",
    "print(\"knn_indices shape:\", knn_indices.shape)"
   ]
  },
  {
   "cell_type": "code",
   "execution_count": null,
   "id": "09c065cd",
   "metadata": {},
   "outputs": [
    {
     "name": "stdout",
     "output_type": "stream",
     "text": [
      "Saving results...\n",
      "Saved: ../data/glove_6b_50d_split\\query_knn_indices.txt and ../data/glove_6b_50d_split\\query_knn_distances.txt\n"
     ]
    }
   ],
   "source": [
    "print(\"Saving labels and distances...\")\n",
    "save_knn_results(os.path.join(OUTPUT_DIR, \"query_knn\"), knn_indices, knn_distances)"
   ]
  },
  {
   "cell_type": "code",
   "execution_count": null,
   "id": "f00d25a2",
   "metadata": {},
   "outputs": [
    {
     "name": "stdout",
     "output_type": "stream",
     "text": [
      "Loaded indices shape: (80000, 10)\n",
      "Loaded distances shape: (80000, 10)\n"
     ]
    }
   ],
   "source": [
    "# load the results to verify\n",
    "knn_indices = np.loadtxt(os.path.join(OUTPUT_DIR, \"query_knn_indices.txt\"), dtype=int)\n",
    "knn_distances = np.loadtxt(os.path.join(OUTPUT_DIR, \"query_knn_distances.txt\"), dtype=float)\n",
    "\n",
    "print(\"Loaded indices shape:\", knn_indices.shape)\n",
    "print(\"Loaded distances shape:\", knn_distances.shape)"
   ]
  },
  {
   "cell_type": "markdown",
   "id": "31fbf93d",
   "metadata": {},
   "source": []
  }
 ],
 "metadata": {
  "kernelspec": {
   "display_name": ".venv",
   "language": "python",
   "name": "python3"
  },
  "language_info": {
   "codemirror_mode": {
    "name": "ipython",
    "version": 3
   },
   "file_extension": ".py",
   "mimetype": "text/x-python",
   "name": "python",
   "nbconvert_exporter": "python",
   "pygments_lexer": "ipython3",
   "version": "3.10.16"
  }
 },
 "nbformat": 4,
 "nbformat_minor": 5
}
