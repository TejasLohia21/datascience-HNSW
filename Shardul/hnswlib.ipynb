{
 "cells": [
  {
   "cell_type": "code",
   "execution_count": 30,
   "id": "a3c7b6b9",
   "metadata": {},
   "outputs": [],
   "source": [
    "import numpy as np\n",
    "from tqdm import tqdm\n",
    "import hnswlib\n",
    "import os\n",
    "import time\n",
    "\n",
    "# set all seed\n",
    "def set_seed(seed):\n",
    "    np.random.seed(seed)\n",
    "\n",
    "set_seed(42)"
   ]
  },
  {
   "cell_type": "code",
   "execution_count": 31,
   "id": "3d59f431",
   "metadata": {},
   "outputs": [],
   "source": [
    "# ====== Settings ======\n",
    "MAIN_DIR = \"../data/glove_6b_50d_split/\"\n",
    "DATA_PATH = MAIN_DIR + \"X_data.txt\"\n",
    "QUERY_PATH = MAIN_DIR + \"X_query.txt\"\n",
    "K = 10\n",
    "OUTPUT_DIR = MAIN_DIR + f\"hnswlib_k{K}/\"\n",
    "os.makedirs(OUTPUT_DIR, exist_ok=True)"
   ]
  },
  {
   "cell_type": "code",
   "execution_count": 32,
   "id": "61140fd8",
   "metadata": {},
   "outputs": [],
   "source": [
    "# ====== Utils ======\n",
    "def load_vectors_only(path):\n",
    "    vectors = []\n",
    "    with open(path, 'r', encoding='utf-8') as f:\n",
    "        for line in f:\n",
    "            vec = np.array(line.strip().split()[1:], dtype=np.float32)\n",
    "            vectors.append(vec)\n",
    "    return np.vstack(vectors)\n",
    "\n",
    "def save_knn_results(prefix, indices, distances):\n",
    "    np.savetxt(f\"{prefix}_indices.txt\", indices, fmt=\"%d\")\n",
    "    np.savetxt(f\"{prefix}_distances.txt\", distances, fmt=\"%.6f\")\n",
    "    print(f\"Saved: {prefix}_indices.txt and {prefix}_distances.txt\")\n",
    "\n",
    "def recall_at_k(true_indices, pred_indices, k):\n",
    "    assert true_indices.shape == pred_indices.shape\n",
    "    correct = 0\n",
    "    for i in range(true_indices.shape[0]):\n",
    "        correct += len(set(true_indices[i, :k]) & set(pred_indices[i, :k]))\n",
    "    return correct / (true_indices.shape[0] * k)"
   ]
  },
  {
   "cell_type": "code",
   "execution_count": 33,
   "id": "952d45d7",
   "metadata": {},
   "outputs": [
    {
     "name": "stdout",
     "output_type": "stream",
     "text": [
      "Loading vectors...\n",
      "X_data shape: (300000, 50)\n",
      "X_query shape: (100000, 50)\n"
     ]
    }
   ],
   "source": [
    "print(\"Loading vectors...\")\n",
    "X_data = load_vectors_only(DATA_PATH)\n",
    "X_query = load_vectors_only(QUERY_PATH)\n",
    "\n",
    "print(f\"X_data shape: {X_data.shape}\")\n",
    "print(f\"X_query shape: {X_query.shape}\")"
   ]
  },
  {
   "cell_type": "code",
   "execution_count": 34,
   "id": "ba52fe73",
   "metadata": {},
   "outputs": [
    {
     "name": "stdout",
     "output_type": "stream",
     "text": [
      "Building HNSW index...\n",
      "Index built in 16.622266 seconds\n"
     ]
    }
   ],
   "source": [
    "print(\"Building HNSW index...\")\n",
    "dim = X_data.shape[1]\n",
    "num_elements = X_data.shape[0]\n",
    "start_time = time.time()\n",
    "\n",
    "p = hnswlib.Index(space='cosine', dim=dim)     # possible options are l2, cosine or ip\n",
    "p.init_index(max_elements=num_elements, ef_construction=200, M=16)\n",
    "p.add_items(X_data)     # add items to the index\n",
    "p.set_ef(50)  # higher = better recall  (should always be > k)\n",
    "\n",
    "end_time = time.time()\n",
    "print(f\"Index built in {end_time - start_time:.6f} seconds\")"
   ]
  },
  {
   "cell_type": "code",
   "execution_count": 35,
   "id": "2871bab3",
   "metadata": {},
   "outputs": [
    {
     "name": "stdout",
     "output_type": "stream",
     "text": [
      "Finding nearest neighbors using HNSW...\n",
      "Nearest neighbors found in 1.680057 seconds\n",
      "\n",
      "hnswlib_distances shape: (100000, 10)\n",
      "hnswlib_indices shape: (100000, 10)\n"
     ]
    }
   ],
   "source": [
    "print(\"Finding nearest neighbors using HNSW...\")\n",
    "start_time = time.time()\n",
    "\n",
    "hnswlib_indices, hnswlib_distances = p.knn_query(X_query, k=K)  # query the index\n",
    "\n",
    "end_time = time.time()\n",
    "print(f\"Nearest neighbors found in {end_time - start_time:.6f} seconds\\n\")\n",
    "\n",
    "print(\"hnswlib_distances shape:\", hnswlib_distances.shape)\n",
    "print(\"hnswlib_indices shape:\", hnswlib_indices.shape)"
   ]
  },
  {
   "cell_type": "code",
   "execution_count": 36,
   "id": "7901ef13",
   "metadata": {},
   "outputs": [
    {
     "name": "stdout",
     "output_type": "stream",
     "text": [
      "Saving labels and distances...\n",
      "Saved: ../data/glove_6b_50d_split/hnswlib_k10/query_hnswlib_indices.txt and ../data/glove_6b_50d_split/hnswlib_k10/query_hnswlib_distances.txt\n"
     ]
    }
   ],
   "source": [
    "print(\"Saving labels and distances...\")\n",
    "save_knn_results(os.path.join(OUTPUT_DIR, \"query_hnswlib\"), hnswlib_indices, hnswlib_distances)"
   ]
  },
  {
   "cell_type": "code",
   "execution_count": 37,
   "id": "fc0e8258",
   "metadata": {},
   "outputs": [],
   "source": [
    "# load the results to verify\n",
    "hnswlib_indices = np.loadtxt(os.path.join(OUTPUT_DIR, \"query_hnswlib_indices.txt\"), dtype=int)\n",
    "hnswlib_distances = np.loadtxt(os.path.join(OUTPUT_DIR, \"query_hnswlib_distances.txt\"), dtype=float)"
   ]
  },
  {
   "cell_type": "markdown",
   "id": "9df82e15",
   "metadata": {},
   "source": [
    "### Calculating recall of hnswlib with KNN"
   ]
  },
  {
   "cell_type": "code",
   "execution_count": 38,
   "id": "c7c15ccb",
   "metadata": {},
   "outputs": [
    {
     "name": "stdout",
     "output_type": "stream",
     "text": [
      "knn_distances shape: (100000, 10)\n",
      "knn_indices shape: (100000, 10)\n"
     ]
    }
   ],
   "source": [
    "knn_indices = np.loadtxt(os.path.join(MAIN_DIR, f\"knn_k{K}/query_knn_indices.txt\"), dtype=int)\n",
    "knn_distances = np.loadtxt(os.path.join(MAIN_DIR, f\"knn_k{K}/query_knn_distances.txt\"), dtype=float)\n",
    "\n",
    "print(\"knn_distances shape:\", knn_distances.shape)\n",
    "print(\"knn_indices shape:\", knn_indices.shape)"
   ]
  },
  {
   "cell_type": "code",
   "execution_count": 39,
   "id": "67765833",
   "metadata": {},
   "outputs": [
    {
     "name": "stdout",
     "output_type": "stream",
     "text": [
      "Recall at k=10: 0.893610\n"
     ]
    }
   ],
   "source": [
    "# calculate recall\n",
    "recall = recall_at_k(hnswlib_indices, knn_indices, K)\n",
    "print(f\"Recall at k={K}: {recall:.6f}\")"
   ]
  },
  {
   "cell_type": "markdown",
   "id": "aece736a",
   "metadata": {},
   "source": []
  }
 ],
 "metadata": {
  "kernelspec": {
   "display_name": ".venv",
   "language": "python",
   "name": "python3"
  },
  "language_info": {
   "codemirror_mode": {
    "name": "ipython",
    "version": 3
   },
   "file_extension": ".py",
   "mimetype": "text/x-python",
   "name": "python",
   "nbconvert_exporter": "python",
   "pygments_lexer": "ipython3",
   "version": "3.10.16"
  }
 },
 "nbformat": 4,
 "nbformat_minor": 5
}
