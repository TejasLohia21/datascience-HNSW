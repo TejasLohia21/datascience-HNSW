{
 "cells": [
  {
   "cell_type": "code",
   "execution_count": null,
   "id": "a3c7b6b9",
   "metadata": {},
   "outputs": [],
   "source": [
    "import numpy as np\n",
    "from tqdm import tqdm\n",
    "import hnswlib\n",
    "import torch\n",
    "\n",
    "# set all seed\n",
    "def set_seed(seed):\n",
    "    np.random.seed(seed)\n",
    "    torch.manual_seed(seed)\n",
    "    torch.cuda.manual_seed_all(seed)\n",
    "\n",
    "set_seed(42)"
   ]
  },
  {
   "cell_type": "markdown",
   "id": "a1258bca",
   "metadata": {},
   "source": [
    "## Load data"
   ]
  },
  {
   "cell_type": "code",
   "execution_count": null,
   "id": "bc9b3ad7",
   "metadata": {},
   "outputs": [],
   "source": [
    "def load_glove_embeddings(file_path):\n",
    "    embeddings = {}\n",
    "    with open(file_path, 'r', encoding='utf-8') as f:\n",
    "        for line in f:\n",
    "            parts = line.strip().split()\n",
    "            word = parts[0]\n",
    "            vector = np.array(parts[1:], dtype=np.float32)\n",
    "            embeddings[word] = vector\n",
    "    return embeddings\n",
    "\n",
    "glove_path = '../data/glove.6B/glove.6B.300d.txt'  # Update this path as needed\n",
    "embeddings = load_glove_embeddings(glove_path)\n",
    "\n",
    "# Create word list and corresponding vectors\n",
    "words = list(embeddings.keys())\n",
    "vectors = np.array([embeddings[word] for word in words])"
   ]
  },
  {
   "cell_type": "markdown",
   "id": "8ec31f0f",
   "metadata": {},
   "source": [
    "## Build HNSW index"
   ]
  },
  {
   "cell_type": "code",
   "execution_count": null,
   "id": "c7c15ccb",
   "metadata": {},
   "outputs": [],
   "source": [
    "import hnswlib\n",
    "\n",
    "dim = vectors.shape[1]\n",
    "num_elements = vectors.shape[0]\n",
    "\n",
    "# Initialize hnswlib index\n",
    "index = hnswlib.Index(space='cosine', dim=dim)\n",
    "index.init_index(max_elements=num_elements, M=16, ef_construction=200, random_seed=42)\n",
    "index.add_items(vectors, np.arange(num_elements))\n",
    "index.set_ef(50)\n",
    "\n",
    "# Retrieve neighbors for each node\n",
    "k = 10  # Number of neighbors\n",
    "labels, distances = index.knn_query(vectors, k=k)\n",
    "\n",
    "# Build edge list\n",
    "edge_index = []\n",
    "for i in range(num_elements):\n",
    "    for j in labels[i]:\n",
    "        edge_index.append([i, j])\n",
    "\n",
    "edge_index = np.array(edge_index).T  # Shape: [2, num_edges]"
   ]
  },
  {
   "cell_type": "markdown",
   "id": "f5b0f684",
   "metadata": {},
   "source": [
    "## Prepare dataset"
   ]
  },
  {
   "cell_type": "code",
   "execution_count": null,
   "id": "8d3a9974",
   "metadata": {},
   "outputs": [],
   "source": [
    "import torch\n",
    "from torch_geometric.data import Data\n",
    "from torch_geometric.utils import negative_sampling\n",
    "\n",
    "# Convert to tensors\n",
    "x = torch.tensor(vectors, dtype=torch.float)\n",
    "edge_index = torch.tensor(edge_index, dtype=torch.long)\n",
    "\n",
    "# Create PyTorch Geometric data object\n",
    "data = Data(x=x, edge_index=edge_index)\n",
    "\n",
    "# Generate negative samples\n",
    "neg_edge_index = negative_sampling(edge_index=edge_index, num_nodes=num_elements, num_neg_samples=edge_index.size(1))\n"
   ]
  },
  {
   "cell_type": "code",
   "execution_count": null,
   "id": "e7f735e5",
   "metadata": {},
   "outputs": [],
   "source": [
    "import torch.nn as nn\n",
    "import torch.nn.functional as F\n",
    "from torch_geometric.nn import GCNConv\n",
    "\n",
    "class GCNLinkPredictor(nn.Module):\n",
    "    def __init__(self, in_channels, hidden_channels):\n",
    "        super(GCNLinkPredictor, self).__init__()\n",
    "        self.conv1 = GCNConv(in_channels, hidden_channels)\n",
    "        self.conv2 = GCNConv(hidden_channels, hidden_channels)\n",
    "        self.link_predictor = nn.Sequential(\n",
    "            nn.Linear(2 * hidden_channels, hidden_channels),\n",
    "            nn.ReLU(),\n",
    "            nn.Linear(hidden_channels, 1)\n",
    "        )\n",
    "\n",
    "    def encode(self, x, edge_index):\n",
    "        x = self.conv1(x, edge_index)\n",
    "        x = F.relu(x)\n",
    "        x = self.conv2(x, edge_index)\n",
    "        return x\n",
    "\n",
    "    def decode(self, z, edge_index):\n",
    "        src, dst = edge_index\n",
    "        z_src = z[src]\n",
    "        z_dst = z[dst]\n",
    "        z_concat = torch.cat([z_src, z_dst], dim=1)\n",
    "        return torch.sigmoid(self.link_predictor(z_concat)).squeeze()\n"
   ]
  },
  {
   "cell_type": "code",
   "execution_count": null,
   "id": "bfdd7580",
   "metadata": {},
   "outputs": [],
   "source": [
    "\n",
    "# Initialize model, optimizer, and loss function\n",
    "model = GCNLinkPredictor(in_channels=dim, hidden_channels=128)\n",
    "optimizer = torch.optim.Adam(model.parameters(), lr=0.01)\n",
    "criterion = nn.BCELoss()\n",
    "\n",
    "# Prepare training data\n",
    "pos_edge_index = edge_index\n",
    "neg_edge_index = neg_edge_index\n",
    "\n",
    "# Combine positive and negative samples\n",
    "train_edge_index = torch.cat([pos_edge_index, neg_edge_index], dim=1)\n",
    "train_labels = torch.cat([torch.ones(pos_edge_index.size(1)), torch.zeros(neg_edge_index.size(1))])\n"
   ]
  },
  {
   "cell_type": "code",
   "execution_count": null,
   "id": "004f97f5",
   "metadata": {},
   "outputs": [],
   "source": [
    "\n",
    "# Training loop\n",
    "model.train()\n",
    "for epoch in range(1, 101):\n",
    "    optimizer.zero_grad()\n",
    "    z = model.encode(data.x, data.edge_index)\n",
    "    preds = model.decode(z, train_edge_index)\n",
    "    loss = criterion(preds, train_labels)\n",
    "    loss.backward()\n",
    "    optimizer.step()\n",
    "    if epoch % 10 == 0:\n",
    "        print(f'Epoch {epoch}, Loss: {loss.item():.4f}')\n"
   ]
  },
  {
   "cell_type": "code",
   "execution_count": null,
   "id": "441c156a",
   "metadata": {},
   "outputs": [],
   "source": [
    "# Evaluation\n",
    "model.eval()\n",
    "with torch.no_grad():\n",
    "    z = model.encode(data.x, data.edge_index)\n",
    "    preds = model.decode(z, train_edge_index)\n",
    "    predicted = (preds > 0.5).float()\n",
    "    accuracy = (predicted == train_labels).sum().item() / train_labels.size(0)\n",
    "    print(f'Accuracy: {accuracy:.4f}')"
   ]
  },
  {
   "cell_type": "markdown",
   "id": "aece736a",
   "metadata": {},
   "source": []
  }
 ],
 "metadata": {
  "kernelspec": {
   "display_name": ".venv",
   "language": "python",
   "name": "python3"
  },
  "language_info": {
   "codemirror_mode": {
    "name": "ipython",
    "version": 3
   },
   "file_extension": ".py",
   "mimetype": "text/x-python",
   "name": "python",
   "nbconvert_exporter": "python",
   "pygments_lexer": "ipython3",
   "version": "3.10.16"
  }
 },
 "nbformat": 4,
 "nbformat_minor": 5
}
